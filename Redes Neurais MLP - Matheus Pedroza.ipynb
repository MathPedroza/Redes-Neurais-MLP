{
 "cells": [
  {
   "cell_type": "markdown",
   "id": "cb1406cf",
   "metadata": {},
   "source": [
    "# IMPORTANDO BIBLIOTECAS NECESSÁRIAS"
   ]
  },
  {
   "cell_type": "code",
   "execution_count": 1,
   "id": "597a2e67",
   "metadata": {},
   "outputs": [],
   "source": [
    "import pandas as pd\n",
    "import io\n",
    "import numpy as np\n",
    "from sklearn.model_selection import train_test_split\n",
    "from sklearn.preprocessing import StandardScaler\n",
    "import matplotlib.pyplot as plt\n",
    "from sklearn.neural_network import MLPClassifier\n",
    "import seaborn as sns; sns.set()\n",
    "from sklearn.metrics import mean_squared_error \n",
    "from sklearn.metrics import classification_report\n",
    "from sklearn.metrics import accuracy_score\n",
    "from sklearn.metrics import confusion_matrix"
   ]
  },
  {
   "cell_type": "markdown",
   "id": "67a8950b",
   "metadata": {},
   "source": [
    "# BASE DE DADOS"
   ]
  },
  {
   "cell_type": "raw",
   "id": "340ce7cf",
   "metadata": {},
   "source": [
    "Entrada da base de dados por intermédio da seleção de um arquivo csv. A abertura é realizada através de uma janela externa, a qual gera uma tabela com os dados. A primeira linha da tabela, geralmente, será composta pelos rótulos das colunas.\n",
    "\n",
    "O teste do presente notebook foi realizado através da base de dados sobre espécies de flores do gênero Iris {3}. A base de dados contém 150 amostras, sendo cada uma formada por 5 atributos (4 características e 1 classe)."
   ]
  },
  {
   "cell_type": "code",
   "execution_count": 2,
   "id": "7647fcc7",
   "metadata": {},
   "outputs": [],
   "source": [
    "table = pd.read_csv('iris.csv')"
   ]
  },
  {
   "cell_type": "code",
   "execution_count": 3,
   "id": "8fd59df1",
   "metadata": {},
   "outputs": [
    {
     "data": {
      "text/html": [
       "<div>\n",
       "<style scoped>\n",
       "    .dataframe tbody tr th:only-of-type {\n",
       "        vertical-align: middle;\n",
       "    }\n",
       "\n",
       "    .dataframe tbody tr th {\n",
       "        vertical-align: top;\n",
       "    }\n",
       "\n",
       "    .dataframe thead th {\n",
       "        text-align: right;\n",
       "    }\n",
       "</style>\n",
       "<table border=\"1\" class=\"dataframe\">\n",
       "  <thead>\n",
       "    <tr style=\"text-align: right;\">\n",
       "      <th></th>\n",
       "      <th>Id</th>\n",
       "      <th>SepalLengthCm</th>\n",
       "      <th>SepalWidthCm</th>\n",
       "      <th>PetalLengthCm</th>\n",
       "      <th>PetalWidthCm</th>\n",
       "      <th>Species</th>\n",
       "    </tr>\n",
       "  </thead>\n",
       "  <tbody>\n",
       "    <tr>\n",
       "      <th>0</th>\n",
       "      <td>1</td>\n",
       "      <td>5.1</td>\n",
       "      <td>3.5</td>\n",
       "      <td>1.4</td>\n",
       "      <td>0.2</td>\n",
       "      <td>Iris-setosa</td>\n",
       "    </tr>\n",
       "    <tr>\n",
       "      <th>1</th>\n",
       "      <td>2</td>\n",
       "      <td>4.9</td>\n",
       "      <td>3.0</td>\n",
       "      <td>1.4</td>\n",
       "      <td>0.2</td>\n",
       "      <td>Iris-setosa</td>\n",
       "    </tr>\n",
       "    <tr>\n",
       "      <th>2</th>\n",
       "      <td>3</td>\n",
       "      <td>4.7</td>\n",
       "      <td>3.2</td>\n",
       "      <td>1.3</td>\n",
       "      <td>0.2</td>\n",
       "      <td>Iris-setosa</td>\n",
       "    </tr>\n",
       "    <tr>\n",
       "      <th>3</th>\n",
       "      <td>4</td>\n",
       "      <td>4.6</td>\n",
       "      <td>3.1</td>\n",
       "      <td>1.5</td>\n",
       "      <td>0.2</td>\n",
       "      <td>Iris-setosa</td>\n",
       "    </tr>\n",
       "    <tr>\n",
       "      <th>4</th>\n",
       "      <td>5</td>\n",
       "      <td>5.0</td>\n",
       "      <td>3.6</td>\n",
       "      <td>1.4</td>\n",
       "      <td>0.2</td>\n",
       "      <td>Iris-setosa</td>\n",
       "    </tr>\n",
       "  </tbody>\n",
       "</table>\n",
       "</div>"
      ],
      "text/plain": [
       "   Id  SepalLengthCm  SepalWidthCm  PetalLengthCm  PetalWidthCm      Species\n",
       "0   1            5.1           3.5            1.4           0.2  Iris-setosa\n",
       "1   2            4.9           3.0            1.4           0.2  Iris-setosa\n",
       "2   3            4.7           3.2            1.3           0.2  Iris-setosa\n",
       "3   4            4.6           3.1            1.5           0.2  Iris-setosa\n",
       "4   5            5.0           3.6            1.4           0.2  Iris-setosa"
      ]
     },
     "execution_count": 3,
     "metadata": {},
     "output_type": "execute_result"
    }
   ],
   "source": [
    "table.head()"
   ]
  },
  {
   "cell_type": "markdown",
   "id": "bc740d60",
   "metadata": {},
   "source": [
    "# PREPARANDO OS CONJUNTOS"
   ]
  },
  {
   "cell_type": "raw",
   "id": "2eed9255",
   "metadata": {},
   "source": [
    "[2.1] separa, aleatoriamente, 75 % dos dados para treinamento (train) e 25 % para teste (test).\n",
    "[2.2] irá, para cada classe, colocar 75 % dos dados no treinamento (train) e os 25 % restantes no conjunto de teste (test)"
   ]
  },
  {
   "cell_type": "code",
   "execution_count": 4,
   "id": "89c950d7",
   "metadata": {},
   "outputs": [
    {
     "name": "stdout",
     "output_type": "stream",
     "text": [
      "Conjuntos de treinamento e teste separados!\n"
     ]
    }
   ],
   "source": [
    "data = np.array(table)\n",
    "\n",
    "data = data[:, 1:] # remover essa linha caso a primeira coluna corresponda a dados relevantes\n",
    "\n",
    "# Indentificando os rótulos das classes\n",
    "labels = []\n",
    "for line in range(data.shape[0]):\n",
    "  if(labels.count(data[line, data.shape[1]-1])==0):\n",
    "    labels.append(data[line, data.shape[1]-1])\n",
    "\n",
    "scaler = StandardScaler() # normalização dos dados\n",
    "# colocar as entradas da rede em uma escala próxima\n",
    "\n",
    "y = np.array(pd.get_dummies(data[:, data.shape[1]-1])).astype(np.float32)\n",
    "x = (data[:, :(data.shape[1]-1)]).astype(np.float32)\n",
    "\n",
    "scaler.fit(x) # ajuste do scaler para pré-processamento\n",
    "\n",
    "# Gerando os conjuntos de treinamento e teste (validação)\n",
    "train_x, test_x, train_y, test_y = train_test_split(x,y, test_size=0.25) # 0.25 dos dados no conjunto de teste\n",
    "\n",
    "print('Conjuntos de treinamento e teste separados!')"
   ]
  },
  {
   "cell_type": "code",
   "execution_count": 5,
   "id": "ebc23445",
   "metadata": {},
   "outputs": [
    {
     "name": "stdout",
     "output_type": "stream",
     "text": [
      "Conjuntos de treinamento e teste separados!\n"
     ]
    }
   ],
   "source": [
    "#[2.2] Formação dos conjuntos de treinamento e teste\n",
    "\n",
    "data = np.array(table)\n",
    "\n",
    "data = data[:, 1:] # remover essa linha caso a primeira coluna corresponda a dados relevantes\n",
    "\n",
    "scaler = StandardScaler()\n",
    "scaler.fit(data[:, :(data.shape[1]-1)]) # ajuste do scaler para pré-processamento\n",
    "\n",
    "# Indentificando os rótulos das classes\n",
    "labels = []\n",
    "for line in range(data.shape[0]):\n",
    "  if(labels.count(data[line, data.shape[1]-1])==0):\n",
    "    labels.append(data[line, data.shape[1]-1])\n",
    "\n",
    "# Contando o número de dados (amostras) em cada classe\n",
    "num_labels = [] # lista com número de amostras por classe\n",
    "ctrl = [] # lista usada na separação entre treinamento e teste\n",
    "for label in labels:\n",
    "  count = 0\n",
    "  for line in range(data.shape[0]):\n",
    "    if(label == data[line, data.shape[1]-1]):\n",
    "      count = count + 1\n",
    "  num_labels.append(count)\n",
    "  ctrl.append(0)\n",
    "\n",
    "# num_labels passa a conter o número de elementos por classe no conjunto de treinamento\n",
    "train_p = 0.75 # percentual dos dados na lista de treinamento\n",
    "for i in range(len(num_labels)):\n",
    "  num_labels[i] = round(num_labels[i] * train_p)\n",
    "\n",
    "train = int(0) # atribuir 0 seria suficiente, mas resolvi garantir\n",
    "test = int(0)\n",
    "\n",
    "# separação dos conjuntos de treinamento (train) e teste (test)\n",
    "for line in range(data.shape[0]):\n",
    "  for label in labels:\n",
    "    if(label == data[line, data.shape[1]-1]):      \n",
    "      aux = labels.index(label) \n",
    "      \n",
    "      if (ctrl[aux] < num_labels[aux]):\n",
    "        if (type(train) is int):\n",
    "          train = data[line, :]\n",
    "        else:\n",
    "          train = np.row_stack((train, data[line, :]))      \n",
    "      else:\n",
    "        if (type(test) is int):\n",
    "          test = data[line, :]\n",
    "        else:\n",
    "          test = np.row_stack((test, data[line, :]))\n",
    "      ctrl[aux] = ctrl[aux]+1\n",
    "      break\n",
    "\n",
    "train_x = (train[:, :train.shape[1]-1]).astype(np.float32) # entradas de train\n",
    "train_y = np.array(pd.get_dummies(train[:, train.shape[1]-1])).astype(np.float32)  # saídas (classes) de train\n",
    "test_x = (test[:, :test.shape[1]-1]).astype(np.float32) # entradas de test\n",
    "test_y = np.array(pd.get_dummies(test[:, test.shape[1]-1])).astype(np.float32) # saídas (classes) de test\n",
    "\n",
    "print('Conjuntos de treinamento e teste separados!')"
   ]
  },
  {
   "cell_type": "markdown",
   "id": "1d868439",
   "metadata": {},
   "source": [
    "# TOPOLOGIA E TREINAMENTO"
   ]
  },
  {
   "cell_type": "raw",
   "id": "55434342",
   "metadata": {},
   "source": [
    "A topologia de uma rede MLP pode ser organizada em: camada de entrada, camadas ocultas e camada de saída. O número de entradas e de neurônios na saída depende do problema, entretanto, o número de camadas ocultas e de neurônios em cada uma dessas camadas é uma questão de projeto. Assim, podemos testar diferentes topologias, variando o número de camadas ocultas e de neurônios nas mesmas, para um mesmo problema.\n",
    "\n",
    "No código a seguir, o número de camadas ocultas, bem como o número de neurônios em cada uma dessas camadas, pode ser informado via \"terminal\"."
   ]
  },
  {
   "cell_type": "code",
   "execution_count": 5,
   "id": "1cece135",
   "metadata": {},
   "outputs": [
    {
     "name": "stdout",
     "output_type": "stream",
     "text": [
      "Ajustando a topologia...\n",
      "Entradas = 4\n",
      "Saídas = 3\n",
      "Número de camadas ocultas: 1\n",
      "Neurônios na camada oculta: 8\n",
      "\n",
      "\n",
      "Treinamento...\n",
      "Número de épocas de treinamento: 1000\n",
      "MLPClassifier(alpha=0.1, hidden_layer_sizes=(8,), learning_rate='adaptive',\n",
      "              learning_rate_init=0.01, max_iter=1000, random_state=121,\n",
      "              solver='sgd', verbose=0)\n",
      "Topologia da MLP = [4, 8, 3]\n"
     ]
    },
    {
     "data": {
      "text/plain": [
       "Text(0, 0.5, 'perda')"
      ]
     },
     "execution_count": 5,
     "metadata": {},
     "output_type": "execute_result"
    },
    {
     "data": {
      "image/png": "[encoded data removed]",
      "text/plain": [
       "<Figure size 432x288 with 1 Axes>"
      ]
     },
     "metadata": {},
     "output_type": "display_data"
    }
   ],
   "source": [
    "# [3] MLP: topologia e treinamento\n",
    "import matplotlib.pyplot as plt\n",
    "from sklearn.neural_network import MLPClassifier\n",
    "\n",
    "print('Ajustando a topologia...')\n",
    "num_x = train_x.shape[1]\n",
    "num_y = train_y.shape[1]\n",
    "print('Entradas = %i\\nSaídas = %i' % (num_x, num_y))\n",
    "\n",
    "while(True):\n",
    "  num_hidden_layers = int(input('Número de camadas ocultas: '))\n",
    "  if(num_hidden_layers>0):\n",
    "    break\n",
    "\n",
    "if(num_hidden_layers==1):\n",
    "  while(True):\n",
    "    topology = [int(input('Neurônios na camada oculta: '))]\n",
    "    if(topology[0]>0):\n",
    "      break\n",
    "else:\n",
    "  topology = []\n",
    "  for i in range(num_hidden_layers):\n",
    "    while(True):\n",
    "      num = int(input('Neurônios na %iª camada oculta: ' % (i+1)))\n",
    "      if(num>0):\n",
    "        topology.append(num)\n",
    "        break\n",
    "\n",
    "print('\\n\\nTreinamento...')\n",
    "\n",
    "epochs = int(input('Número de épocas de treinamento: '))\n",
    "\n",
    "# inicialização do modelo\n",
    "Model = MLPClassifier(hidden_layer_sizes=tuple(topology), max_iter=epochs, alpha=0.1,\n",
    "                     solver='sgd', learning_rate_init=0.01, momentum=0.9, learning_rate='adaptive', verbose=0,  random_state=121) # verbose=1 exibe o log de treinamento\n",
    "\n",
    "topology.insert(0, num_x)\n",
    "topology.append(num_y)\n",
    "\n",
    "# pré-processamento\n",
    "p_train_x = scaler.transform(train_x)\n",
    "\n",
    "# treinando o modelo\n",
    "model = Model.fit(p_train_x, train_y)\n",
    "\n",
    "print(model)\n",
    "print('Topologia da MLP =', topology)\n",
    "\n",
    "# exibindo a curva de perda logarítmica\n",
    "plt.plot(model.loss_curve_)\n",
    "plt.title('Histórico de Perda Logarítmica')\n",
    "plt.xlabel('épocas')\n",
    "plt.ylabel('perda')"
   ]
  },
  {
   "cell_type": "markdown",
   "id": "5fbacd1d",
   "metadata": {},
   "source": [
    "# ANALISANDO O CONJUNTO DE TREINAMENTO"
   ]
  },
  {
   "cell_type": "code",
   "execution_count": 6,
   "id": "cdc19292",
   "metadata": {},
   "outputs": [
    {
     "name": "stdout",
     "output_type": "stream",
     "text": [
      "              precision    recall  f1-score   support\n",
      "\n",
      "           0       1.00      1.00      1.00        38\n",
      "           1       0.97      0.88      0.92        33\n",
      "           2       0.91      0.98      0.94        41\n",
      "\n",
      "   micro avg       0.96      0.96      0.96       112\n",
      "   macro avg       0.96      0.95      0.95       112\n",
      "weighted avg       0.96      0.96      0.96       112\n",
      " samples avg       0.96      0.96      0.96       112\n",
      "\n",
      "A acurácia é  0.9553571428571429\n"
     ]
    },
    {
     "data": {
      "image/png": "[encoded data removed]",
      "text/plain": [
       "<Figure size 432x288 with 1 Axes>"
      ]
     },
     "metadata": {},
     "output_type": "display_data"
    }
   ],
   "source": [
    "# [4] Análise do conjunto de treinamento\n",
    "import matplotlib.pyplot as plt\n",
    "import seaborn as sns; sns.set()\n",
    "from sklearn.metrics import mean_squared_error \n",
    "from sklearn.metrics import classification_report\n",
    "from sklearn.metrics import accuracy_score\n",
    "from sklearn.metrics import confusion_matrix\n",
    "\n",
    "train_est_y = model.predict(p_train_x)\n",
    "\n",
    "# matriz de confusão\n",
    "mat = confusion_matrix(train_y.argmax(axis=1), train_est_y.argmax(axis=1))\n",
    "sns.heatmap(mat.T, square=True, annot=True, fmt='d', cbar=False, xticklabels=labels, yticklabels=labels)\n",
    "plt.xlabel('Real')\n",
    "plt.ylabel('Estimado');\n",
    "\n",
    "print(classification_report(train_y, train_est_y)) # mostra relatório\n",
    "print('A acurácia é ',accuracy_score(train_est_y, train_y)) # exibe acurácia"
   ]
  },
  {
   "cell_type": "markdown",
   "id": "eae81be8",
   "metadata": {},
   "source": [
    "# ANALISANDO O CONJUNTO DE TESTE"
   ]
  },
  {
   "cell_type": "code",
   "execution_count": 8,
   "id": "cc0195ff",
   "metadata": {},
   "outputs": [
    {
     "name": "stdout",
     "output_type": "stream",
     "text": [
      "              precision    recall  f1-score   support\n",
      "\n",
      "           0       1.00      1.00      1.00        12\n",
      "           1       0.92      1.00      0.96        12\n",
      "           2       1.00      1.00      1.00        12\n",
      "\n",
      "   micro avg       0.97      1.00      0.99        36\n",
      "   macro avg       0.97      1.00      0.99        36\n",
      "weighted avg       0.97      1.00      0.99        36\n",
      " samples avg       0.99      1.00      0.99        36\n",
      "\n",
      "A acurácia é  0.9722222222222222\n"
     ]
    },
    {
     "data": {
      "image/png": "[encoded data removed]",
      "text/plain": [
       "<Figure size 432x288 with 1 Axes>"
      ]
     },
     "metadata": {},
     "output_type": "display_data"
    }
   ],
   "source": [
    "# [5] Análise do conjunto de teste\n",
    "import matplotlib.pyplot as plt\n",
    "import seaborn as sns; sns.set()\n",
    "from sklearn.metrics import mean_squared_error \n",
    "from sklearn.metrics import classification_report\n",
    "from sklearn.metrics import accuracy_score\n",
    "from sklearn.metrics import confusion_matrix\n",
    "\n",
    "# pré-processamento\n",
    "p_test_x = scaler.transform(test_x)\n",
    "\n",
    "test_est_y = model.predict(p_test_x)\n",
    "\n",
    "# matriz de confusão\n",
    "mat = confusion_matrix(test_y.argmax(axis=1), test_est_y.argmax(axis=1))\n",
    "sns.heatmap(mat.T, square=True, annot=True, fmt='d', cbar=False, xticklabels=labels, yticklabels=labels)\n",
    "plt.xlabel('Real')\n",
    "plt.ylabel('Estimado');\n",
    "\n",
    "print(classification_report(test_y, test_est_y)) # mostra relatório\n",
    "print('A acurácia é ',accuracy_score(test_est_y, test_y)) # exibe acurácia\n"
   ]
  },
  {
   "cell_type": "code",
   "execution_count": null,
   "id": "b6b74161",
   "metadata": {},
   "outputs": [],
   "source": []
  }
 ],
 "metadata": {
  "kernelspec": {
   "display_name": "Python 3",
   "language": "python",
   "name": "python3"
  },
  "language_info": {
   "codemirror_mode": {
    "name": "ipython",
    "version": 3
   },
   "file_extension": ".py",
   "mimetype": "text/x-python",
   "name": "python",
   "nbconvert_exporter": "python",
   "pygments_lexer": "ipython3",
   "version": "3.8.8"
  }
 },
 "nbformat": 4,
 "nbformat_minor": 5
}
